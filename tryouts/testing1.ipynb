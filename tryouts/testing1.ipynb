{
 "cells": [
  {
   "cell_type": "code",
   "execution_count": 1,
   "metadata": {},
   "outputs": [],
   "source": [
    "# 1\n",
    "import spacy\n",
    "import json\n",
    "from spacy.matcher import Matcher\n",
    "\n",
    "nlp = spacy.load(\"en_core_web_sm\")"
   ]
  },
  {
   "cell_type": "code",
   "execution_count": 2,
   "metadata": {},
   "outputs": [],
   "source": [
    "# 2\n",
    "ruler = nlp.add_pipe(\"entity_ruler\", before=\"ner\")\n",
    "\n",
    "# Function to add custom rules based on the synonyms in JSON\n",
    "def add_custom_rules():\n",
    "    with open(\"OCR_raw_samples/X1.json\", \"r\") as file:\n",
    "        data = json.load(file)\n",
    "        patterns = []\n",
    "        for entry in data:\n",
    "            for synonym in entry[\"Synonyms\"]:\n",
    "                patterns.append({\"label\": \"TEST\", \"pattern\": synonym})\n",
    "        # print(patterns)\n",
    "        ruler.add_patterns(patterns)\n",
    "\n",
    "# Load custom rules\n",
    "add_custom_rules()"
   ]
  },
  {
   "cell_type": "code",
   "execution_count": null,
   "metadata": {},
   "outputs": [],
   "source": [
    "# print custom rules\n",
    "print(ruler.patterns)"
   ]
  },
  {
   "cell_type": "code",
   "execution_count": null,
   "metadata": {},
   "outputs": [],
   "source": [
    "# matcher = Matcher(nlp.vocab)\n",
    "\n",
    "# def add_matcher_patterns():\n",
    "#     # Define the pattern for matching units\n",
    "#     pattern = [{\"LOWER\": {\"IN\": [\"iu\", \"g\", \"mmol\", \"u\"]}}, {\"TEXT\": \"/\"}, {\"LOWER\": {\"IN\": [\"ml\", \"l\"]}}]\n",
    "#     matcher.add(\"unit\", [pattern])\n",
    "\n",
    "# # Add the matcher patterns\n",
    "# add_matcher_patterns()"
   ]
  },
  {
   "cell_type": "code",
   "execution_count": 3,
   "metadata": {},
   "outputs": [],
   "source": [
    "def add_matcher_patterns(matcher):\n",
    "    # Define the pattern for matching units\n",
    "    pattern = [{\"LOWER\": {\"IN\": [\"iu\", \"g\", \"mmol\", \"u\"]}}, {\"TEXT\": \"/\"}, {\"LOWER\": {\"IN\": [\"ml\", \"l\"]}}]\n",
    "    matcher.add(\"unit\", [pattern])"
   ]
  },
  {
   "cell_type": "code",
   "execution_count": 3,
   "metadata": {},
   "outputs": [],
   "source": [
    "# 3\n",
    "file_path = \"OCR_raw_samples/0b8706dc-c9af-4c6b-887d-2f85b5a511e7.txt\"\n",
    "\n",
    "with open(file_path, 'r') as file:\n",
    "    # text = file.read()\n",
    "    data = file.read().replace(\"\\n\", \" \")\n",
    "    # text = clean_text(text)\n",
    "doc = nlp(data)"
   ]
  },
  {
   "cell_type": "code",
   "execution_count": 5,
   "metadata": {},
   "outputs": [
    {
     "name": "stdout",
     "output_type": "stream",
     "text": [
      "{'Erythrocytes': {'values': ['14', '5', '0', '5'], 'units': []}, 'IgG': {'values': ['30/01/2024', '5', '30/01/2024', '31/01/24', '30/01/2024', '5', '30/01/2024'], 'units': []}, 'Sodium': {'values': ['140', '139', '140', '135', '140', '139', '140', '135', '139', '140', '138', '135'], 'units': []}, 'Potassium': {'values': ['5.5', '4.5', '3.5-5.5', '106', '106', '107', '106', '95', '5.5', '4.5', '3.5-5.5', '106', '106', '107', '106', '95', '4.5', '3.5-5.5', '107', '106', '108', '95'], 'units': []}, 'Bicarbonate': {'values': ['23', '23', '21'], 'units': []}, 'Urea': {'values': ['4.0', '4.8', '5.1', '2.5-7.0', '4.0', '4.8', '5.1', '2.5-7.0', '5.3', '5.2', '2.5-7.0'], 'units': []}, 'Creatinine': {'values': ['4.4', '1.007', '1.005'], 'units': []}, 'eGFR': {'values': ['90', '90', '90', '59', '2.15-2.55', '2.34', '2.15-2.55', '0.84', '30/01/2024', '24/09/18', '28/07/23', '31/01/24', '4.5', '4.7', '3.6-6.0', '4.5', '3.6-7.8', '3.6-6.0', '90', '90', '90', '59', '2.15-2.55', '2.34', '2.15-2.55', '0.84', '30/01/2024', '24/09/18', '28/07/23', '31/01/24', '4.5', '4.7', '3.6-6.0', '4.5', '3.6-7.8', '3.6-6.0', '90', '90', '59'], 'units': []}, 'Phosphate': {'values': ['1.08', '0.8-1.5', '11', '20', '59', '60', '20-105', '13 11', '15', '203', '178', '120-250', '16 12', '1.08', '0.8-1.5', '11', '20', '59', '60', '20-105', '13 11', '15', '203', '178', '120-250', '16 12', '1.08', '1.06', '0.8-1.5', '18', '70', '20-105', '120-250', '22', '15'], 'units': []}, 'Total Protein': {'values': ['37-48', '30', '26', '26', '4.7', '37-48', '30', '26', '26', '4.7', '46', '37-48', '26 25', '4.7', '4.2'], 'units': []}, 'Triglycerides': {'values': ['0.6', '0.5', '0.6', '2.0', '1.6 2.0', '1.2', '2.0', '4.0', '2.0', '1.0', '2.5', '1.8', '3.3', '2.5', '30/01/2024', '28/07/23', '31/01/24', '0.6', '0.5', '0.6', '2.0', '1.6 2.0', '1.2', '2.0', '2.7', '4.0', '2.0', '1.0', '2.5', '1.8', '3.3', '2.5', '30/01/2024', '02:47', '0.6', '0.5', '0.6', '0.9', '2.0', '1.6', '1.2', '2.0', '2.4', '2.2', '4.0', '2.0', '1.0', '2.5', '1.8', '3.3', '2.5', '127/85', '130/89', '120/72', '1', '133/81', '2011', '30', '2', '253', '2', '127/85', '130/89', '120/72', '1', '133/81', '2011', '30', '2', '253', '05-02-2025', '1.5'], 'units': []}, 'glucose': {'values': ['2', '2', '30/01/2024', '31/01/24', '4.7'], 'units': []}, 'Iron': {'values': ['30/01/2024', '28/07/23', '31/01/24', '11.5', '5.0', '30/01/2024', '02:47', '28/07/23', '31/01/24', '11.5', '5.0'], 'units': []}, 'Transferrin': {'values': ['2.2', '2.7', '2.0-3.6', '50', '23', '2.2', '2.7', '2.0-3.6', '50', '23'], 'units': []}, 'Ferritin': {'values': ['38', '719', '39', '15-200', '30/01/2024', '31/01/24', '4.7', '39', '15-200', '30/01/2024', '24/09/18', '31/01/24', '1.14', '1.18', '1.57', '16', '100 - 5000', '2.40 2.39', '2.15-2.55', '2.27', '2.15-2.55', '46', '49', '37-48'], 'units': []}, 'Haemoglobin': {'values': ['124', '128', '127', '134', '119-160', '4.2', '4.3', '4.5', '12', '3.8-5.8', '80-100', '124', '128', '127', '134', '119-160', '4.2', '4.3', '4.5', '12', '3.8-5.8', '87 92', '80-100'], 'units': []}, 'MCH': {'values': ['29.6', '30.0 29.9', '27.0', '328', '338', '344', '310-360', '11.9', '11.9', '12.4 13.0', '10.0-15.0', '7.7', '9.3', '7.9', '4.0', '29.6', '30.0 29.9', '27.0', '328', '338', '344', '310-360', '11.9', '11.9', '12.4 13.0', '10.0-15.0'], 'units': []}, 'Neutrophils': {'values': ['4.32', '4.50', '4.11', '2.0-7.5', '2.77', '2.96', '3.67', '2.96', '1.0-4.0', '4.32', '4.50', '4.11', '2.0-7.5', '2.77', '2.96', '3.67', '2.96', '1.0-4.0'], 'units': []}, 'Monocytes': {'values': ['0.52', '0.0-1.0', '0.52', '0.0-1.0'], 'units': []}, 'Eosinophils': {'values': ['0.07', '0.07'], 'units': []}, 'Basophils': {'values': ['0.04', '0.07', '0.04', '0.0-0.3', '0.04', '0.07', '0.04', '0.0-0.3'], 'units': []}, 'NRBC': {'values': [], 'units': []}, 'Platelets': {'values': ['221', '267', '234', '261', '150-450', '1-22', '30/01/2024', '30/01/2024', '24/09/18', '31/01/24', '1.14', '1.18', '30/01/2024', '221', '267', '234', '261', '150-450', '1-22', '30/01/2024', '31/01/24'], 'units': []}, 'Vitamin D': {'values': ['50-140', '196(11):686', '30', '12.5 - 29', '12.5', '10 - 20', '30/01/2024', '28/07/23', '31/01/24', '50-140', '196(11):686', '30', '12.5 - 29', '12.5', '10 - 20'], 'units': []}, 'WCC': {'values': ['7.7', '9.3', '7.9', '4.0'], 'units': []}, 'Urate': {'values': ['0.21', '2.40', '2.39', '2.37', '2.15-2.55', '2.34', '2.33', '2.15-2.55'], 'units': []}, 'Parathyroid Hormone': {'values': ['1.6 - 6.9', '2.15 - 2.55', '2.15 - 2.55', '49', '37 - 48', '4.7', '3.6-6.0', '4.5', '3.6-7.8', '3.6-6.0', '5.5', '3.6-7.7', '31/01/24 05/02/24', '3.8', '4.2'], 'units': []}, 'T': {'values': ['3', '7', '1.5', '3'], 'units': ['IU/mL', 'IU/mL', 'IU/mL', 'IU/mL', 'mmol/L', 'mmol/L', 'mmol/L', 'mmol/L', 'mmol/L', 'mmol/L', 'mmol/L', 'mmol/L', 'mmol/L', 'U/L', 'U/L', 'U/L', 'U/L', 'U/L', 'g/L', 'g/L', 'g/L', 'mmol/L', 'mmol/L', 'mmol/L', 'mmol/L', 'mmol/L', 'mmol/L', 'g/L', 'mmol/L', 'mmol/L', 'mmol/L', 'mmol/L', 'mmol/L', 'mmol/L', 'mmol/L', 'mmol/L', 'mmol/L', 'mmol/L', 'mmol/L', 'mmol/L', 'g/L', 'g/L', 'IU/L', 'IU/L', 'g/L', 'g/L', 'mmol/L', 'mmol/L', 'mmol/L', 'mmol/L', 'mmol/L', 'mmol/L', 'mmol/L', 'mmol/L', 'mmol/L', 'U/L', 'U/L', 'U/L', 'U/L', 'U/L', 'g/L', 'g/L', 'g/L', 'mmol/L', 'mmol/L', 'mmol/L', 'mmol/L', 'mmol/L', 'mmol/L', 'mmol/L', 'mmol/L', 'mmol/L', 'mmol/L', 'mmol/L', 'mmol/L', 'mmol/L', 'mmol/L', 'mmol/L', 'mmol/L', 'mmol/L', 'mmol/L', 'IU/L', 'IU/L', 'IU/mL', 'IU/mL', 'IU/mL', 'IU/mL', 'g/L', 'IU/L', 'IU/L', 'IU/L', 'mmol/L', 'mmol/L', 'g/L', 'mmol/L', 'mmol/L', 'mmol/L', 'mmol/L', 'mmol/L', 'mmol/L', 'mmol/L', 'mmol/L', 'mmol/L', 'mmol/L', 'U/L', 'U/L', 'U/L', 'U/L', 'U/L', 'g/L', 'g/L', 'g/L', 'mmol/L', 'mmol/L', 'mmol/L', 'mmol/L', 'g/L', 'mmol/L', 'mmol/L', 'mmol/L', 'mmol/L', 'mmol/L', 'mmol/L', 'mmol/L', 'mmol/L', 'mmol/L', 'mmol/L', 'mmol/L', 'mmol/L', 'mmol/L', 'mmol/L', 'mmol/L', 'mmol/L']}}\n"
     ]
    }
   ],
   "source": [
    "# Initialize the matcher with the vocab\n",
    "matcher = Matcher(nlp.vocab)\n",
    "add_matcher_patterns(matcher)\n",
    "\n",
    "# Dictionary to store the drug data\n",
    "drug_data = {}\n",
    "\n",
    "# Assume `doc` has been processed by `nlp(text)`\n",
    "for ent in doc.ents:\n",
    "    if ent.label_ == \"TEST\":\n",
    "        if ent.text not in drug_data:\n",
    "            drug_data[ent.text] = {\"values\": [], \"units\": []}\n",
    "        current_parameter = ent.text\n",
    "\n",
    "    elif ent.label_ == \"CARDINAL\" and \"current_parameter\" in locals():\n",
    "        drug_data[current_parameter][\"values\"].append(ent.text)\n",
    "\n",
    "# Process the entire document to find matches for units using the matcher\n",
    "matches = matcher(doc)\n",
    "for match_id, start, end in matches:\n",
    "    matched_span = doc[start:end].text\n",
    "    if \"current_parameter\" in locals():\n",
    "        drug_data[current_parameter][\"units\"].append(matched_span)\n",
    "\n",
    "# To display the organized drug data\n",
    "print(drug_data)"
   ]
  },
  {
   "cell_type": "code",
   "execution_count": null,
   "metadata": {},
   "outputs": [],
   "source": []
  },
  {
   "cell_type": "code",
   "execution_count": null,
   "metadata": {},
   "outputs": [],
   "source": [
    "# from spacy.matcher import Matcher\n",
    "\n",
    "# matcher = Matcher(nlp.vocab)\n",
    "\n",
    "# def extract_unit(doc_nlp):\n",
    "#     # create pattern for unit extraction IU/mL, g/L,mmol/L, U/L\n",
    "#     pattern = [{\"LOWER\": {\"IN\": [\"iu\", \"g\", \"mmol\", \"u\"]}}, {\"TEXT\": \"/\"}, {\"LOWER\": {\"IN\": [\"ml\", \"l\"]}}]\n",
    "#     matcher.add(\"unit\", [pattern])\n",
    "#     matches = matcher(doc_nlp)\n",
    "#     for match_id, start, end in matches:\n",
    "#         span = doc[start:end]\n",
    "#         print(span.text)\n",
    "\n",
    "# extract_unit(doc)"
   ]
  },
  {
   "cell_type": "code",
   "execution_count": 4,
   "metadata": {},
   "outputs": [
    {
     "name": "stdout",
     "output_type": "stream",
     "text": [
      "{'Erythrocytes': {'values': ['14', '5', '0', '5'], 'units': ['UTI', 'MSU']}, 'IgG': {'values': ['30/01/2024', '5', '30/01/2024', '31/01/24', '30/01/2024', '5', '30/01/2024'], 'units': ['Rubella Serology Rubella', 'CMIA', 'IU/mL  Comment on Lab', 'HB-Sero', 'BIOCHEMISTRY  Date', 'Units Reference Status Fasting Fasting  ', 'Rubella Serology Rubella', 'CMIA', 'IU/mL  Comment on Lab']}, 'Sodium': {'values': ['140', '139', '140', '135', '140', '139', '140', '135', '139', '140', '138', '135'], 'units': []}, 'Potassium': {'values': ['5.5', '4.5', '3.5-5.5', '106', '106', '107', '106', '95', '5.5', '4.5', '3.5-5.5', '106', '106', '107', '106', '95', '4.5', '3.5-5.5', '107', '106', '108', '95'], 'units': []}, 'Bicarbonate': {'values': ['23', '23', '21'], 'units': []}, 'Urea': {'values': ['4.0', '4.8', '5.1', '2.5-7.0', '4.0', '4.8', '5.1', '2.5-7.0', '5.3', '5.2', '2.5-7.0'], 'units': []}, 'Creatinine': {'values': ['4.4', '1.007', '1.005'], 'units': ['MSU', 'Urine  pH 6 Protein Nil Glucose Nil  Blood Trace Ketones Nil  Specific']}, 'eGFR': {'values': ['90', '90', '90', '59', '2.15-2.55', '2.34', '2.15-2.55', '0.84', '30/01/2024', '24/09/18', '28/07/23', '31/01/24', '4.5', '4.7', '3.6-6.0', '4.5', '3.6-7.8', '3.6-6.0', '90', '90', '90', '59', '2.15-2.55', '2.34', '2.15-2.55', '0.84', '30/01/2024', '24/09/18', '28/07/23', '31/01/24', '4.5', '4.7', '3.6-6.0', '4.5', '3.6-7.8', '3.6-6.0', '90', '90', '59'], 'units': ['mL/min/1.73m2', 'HB-Sero', 'GLUCOSE', 'Comments on Collection 31/01/24 0727', 'mL/min/1.73m2', 'GLUCOSE', 'Comments on Collection 31/01/24 0727', 'mL/min/1.73m2']}, 'Phosphate': {'values': ['1.08', '0.8-1.5', '11', '20', '59', '60', '20-105', '13 11', '15', '203', '178', '120-250', '16 12', '1.08', '0.8-1.5', '11', '20', '59', '60', '20-105', '13 11', '15', '203', '178', '120-250', '16 12', '1.08', '1.06', '0.8-1.5', '18', '70', '20-105', '120-250', '22', '15'], 'units': ['ALP', 'U/L', 'U/L', 'LD 187', 'U/L', 'U/L', 'U/L', 'ALP', 'U/L', 'U/L', 'LD 187', 'U/L', 'U/L', 'U/L', 'ALP', 'U/L', 'U/L', 'U/L', 'U/L', 'U/L']}, 'Total Protein': {'values': ['37-48', '30', '26', '26', '4.7', '37-48', '30', '26', '26', '4.7', '46', '37-48', '26 25', '4.7', '4.2'], 'units': ['g/L', 'g/L', 'g/L', 'g/L', 'g/L', 'g/L', 'g/L', 'g/L', 'g/L']}, 'Triglycerides': {'values': ['0.6', '0.5', '0.6', '2.0', '1.6 2.0', '1.2', '2.0', '4.0', '2.0', '1.0', '2.5', '1.8', '3.3', '2.5', '30/01/2024', '28/07/23', '31/01/24', '0.6', '0.5', '0.6', '2.0', '1.6 2.0', '1.2', '2.0', '2.7', '4.0', '2.0', '1.0', '2.5', '1.8', '3.3', '2.5', '30/01/2024', '02:47', '0.6', '0.5', '0.6', '0.9', '2.0', '1.6', '1.2', '2.0', '2.4', '2.2', '4.0', '2.0', '1.0', '2.5', '1.8', '3.3', '2.5', '127/85', '130/89', '120/72', '1', '133/81', '2011', '30', '2', '253', '2', '127/85', '130/89', '120/72', '1', '133/81', '2011', '30', '2', '253', '05-02-2025', '1.5'], 'units': ['Comments on Collection 31/01/24 0727', 'HDL Chol', 'Non-HDL Chol', 'Comments on Collection 31/01/24 0727', 'www.cvdcheck.org.au', 'the European Atherosclerosis Society', 'European Federation of Clinical Chemistry', 'the Australasian Association of Clinical Biochemistry and Laboratory Medicine', 'Lipid', 'HDL', 'Non-HDL', 'Target', 'the AACB Lipid Reporting Guideline 2018', 'HB-Sero', 'HAEMATOLOGY', 'Comments on Collection 31/01/24 0727', 'HDL Chol', 'Non-HDL Chol', 'Comments on Collection 31/01/24 0727', 'the European Atherosclerosis Society', 'European Federation of Clinical Chemistry', 'the Australasian Association of Clinical Biochemistry and Laboratory Medicine', 'Lipid', 'HDL', 'Non-HDL', 'Target', 'the AACB Lipid Reporting Guideline 2018', 'Hepatitis B Serology  Hepatitis B Surface', 'IU/L Comment on Lab', 'Comments on Collection', 'HDL Chol', 'Non-HDL Chol', 'Comments on Collection', 'the European Atherosclerosis Society', 'European Federation of Clinical Chemistry', 'the Australasian Association of Clinical Biochemistry and Laboratory Medicine', 'Lipid', 'HDL', 'Non-HDL', 'Target', 'the AACB Lipid Reporting Guideline 2018', 'DR TIN KHIN DR', 'N.R. <130/80)', 'The National Heart Foundation', 'High Blood Pressure Research Council of Australia Ambulatory Blood Pressure Committee', 'PDF', 'BP Monitor  Tests', 'DR TIN KHIN DR', 'N.R. <130/80)', 'The National Heart Foundation', 'High Blood Pressure Research Council', 'Ambulatory Blood Pressure Committee', 'PDF', 'GUID', 'BP Monitor  Tests', 'PRP Diagnostic Imaging', 'Bladder', 'Fully Rebatable']}, 'glucose': {'values': ['2', '2', '30/01/2024', '31/01/24', '4.7'], 'units': ['HB-Sero']}, 'Iron': {'values': ['30/01/2024', '28/07/23', '31/01/24', '11.5', '5.0', '30/01/2024', '02:47', '28/07/23', '31/01/24', '11.5', '5.0'], 'units': []}, 'Transferrin': {'values': ['2.2', '2.7', '2.0-3.6', '50', '23', '2.2', '2.7', '2.0-3.6', '50', '23'], 'units': ['g/L', 'g/L']}, 'Ferritin': {'values': ['38', '719', '39', '15-200', '30/01/2024', '31/01/24', '4.7', '39', '15-200', '30/01/2024', '24/09/18', '31/01/24', '1.14', '1.18', '1.57', '16', '100 - 5000', '2.40 2.39', '2.15-2.55', '2.27', '2.15-2.55', '46', '49', '37-48'], 'units': ['HB-Sero', 'TFT', 'TSH', 'mIU/L', 'HCG', 'LMP', 'BIOCHEMISTRY  Date', 'g/L', 'Time']}, 'Haemoglobin': {'values': ['124', '128', '127', '134', '119-160', '4.2', '4.3', '4.5', '12', '3.8-5.8', '80-100', '124', '128', '127', '134', '119-160', '4.2', '4.3', '4.5', '12', '3.8-5.8', '87 92', '80-100'], 'units': ['RCC', 'Haematocrit 0.38 0.38', '0.37 0.41', 'RCC', 'Haematocrit 0.38 0.38', '0.37 0.41']}, 'MCH': {'values': ['29.6', '30.0 29.9', '27.0', '328', '338', '344', '310-360', '11.9', '11.9', '12.4 13.0', '10.0-15.0', '7.7', '9.3', '7.9', '4.0', '29.6', '30.0 29.9', '27.0', '328', '338', '344', '310-360', '11.9', '11.9', '12.4 13.0', '10.0-15.0'], 'units': ['RDW', '9/L', 'RDW']}, 'Neutrophils': {'values': ['4.32', '4.50', '4.11', '2.0-7.5', '2.77', '2.96', '3.67', '2.96', '1.0-4.0', '4.32', '4.50', '4.11', '2.0-7.5', '2.77', '2.96', '3.67', '2.96', '1.0-4.0'], 'units': ['9/L', '9/L', '9/L', '9/L']}, 'Monocytes': {'values': ['0.52', '0.0-1.0', '0.52', '0.0-1.0'], 'units': ['9/L', '9/L']}, 'Eosinophils': {'values': ['0.07', '0.07'], 'units': ['9/L', '9/L']}, 'Basophils': {'values': ['0.04', '0.07', '0.04', '0.0-0.3', '0.04', '0.07', '0.04', '0.0-0.3'], 'units': ['9/L', '9/L']}, 'NRBC': {'values': [], 'units': ['WBC', 'WBC']}, 'Platelets': {'values': ['221', '267', '234', '261', '150-450', '1-22', '30/01/2024', '30/01/2024', '24/09/18', '31/01/24', '1.14', '1.18', '30/01/2024', '221', '267', '234', '261', '150-450', '1-22', '30/01/2024', '31/01/24'], 'units': ['9/L', 'Comments on Collection 31/01/24 0727', 'HB-Sero', 'Hepatitis B Serology Hepatitis B Surface', 'IU/L Comment on Lab', 'HB-Sero', 'TSH', 'HB-Sero', '9/L', 'Comments on Collection 31/01/24 0727', 'HB-Sero', 'BIOCHEMISTRY  Date']}, 'Vitamin D': {'values': ['50-140', '196(11):686', '30', '12.5 - 29', '12.5', '10 - 20', '30/01/2024', '28/07/23', '31/01/24', '50-140', '196(11):686', '30', '12.5 - 29', '12.5', '10 - 20'], 'units': ['Comments on Collection 31/01/24 0727', \"the Position Statement '\", 'L Moderate', 'Medicare', 'HB-Sero', 'HAEMATOLOGY', 'Comments on Collection 31/01/24 0727', \"the Position Statement '\", 'L Moderate', 'Medicare', 'HB-Sero']}, 'WCC': {'values': ['7.7', '9.3', '7.9', '4.0'], 'units': ['9/L']}, 'Urate': {'values': ['0.21', '2.40', '2.39', '2.37', '2.15-2.55', '2.34', '2.33', '2.15-2.55'], 'units': []}, 'Parathyroid Hormone': {'values': ['1.6 - 6.9', '2.15 - 2.55', '2.15 - 2.55', '49', '37 - 48', '4.7', '3.6-6.0', '4.5', '3.6-7.8', '3.6-6.0', '5.5', '3.6-7.7', '31/01/24 05/02/24', '3.8', '4.2'], 'units': ['Roche', 'Albumin H', 'g/L', 'GLUCOSE']}, 'T': {'values': ['3', '7', '1.5', '3'], 'units': ['PRP Orange Click', 'PRP Diagnostic Imaging', 'Bladder', 'Fully Rebatable', 'PRP Orange Click']}}\n"
     ]
    }
   ],
   "source": [
    "# 4\n",
    "# Initialize a dictionary to store drug parameters, values, and units\n",
    "drug_data = {}\n",
    "\n",
    "for ent in doc.ents:\n",
    "    if ent.label_ == \"TEST\":\n",
    "        # Start a new entry for this parameter if it doesn't exist\n",
    "        if ent.text not in drug_data:\n",
    "            drug_data[ent.text] = {\"values\": [], \"units\": []}\n",
    "        # Focus on this parameter for subsequent values and units\n",
    "        current_parameter = ent.text\n",
    "\n",
    "    elif ent.label_ == \"CARDINAL\" and \"current_parameter\" in locals():\n",
    "        # Append value to the current parameter\n",
    "        drug_data[current_parameter][\"values\"].append(ent.text)\n",
    "\n",
    "    elif ent.label_ == \"ORG\" and \"current_parameter\" in locals():\n",
    "        # Append unit to the current parameter\n",
    "        drug_data[current_parameter][\"units\"].append(ent.text)\n",
    "\n",
    "# To display the organized drug data\n",
    "print(drug_data)\n",
    "\n"
   ]
  },
  {
   "cell_type": "code",
   "execution_count": null,
   "metadata": {},
   "outputs": [],
   "source": [
    "# 5\n"
   ]
  },
  {
   "cell_type": "code",
   "execution_count": null,
   "metadata": {},
   "outputs": [],
   "source": [
    "result = []\n",
    "drug, value, unit = {}, [], []\n",
    "for ent in doc.ents:\n",
    "    # print(ent.text, ent.label_)\n",
    "    # print(\"-------------------\")\n",
    "    # check if the entity is TEST and entity is an ORG\n",
    "    if ent.label_ == \"TEST\":\n",
    "        # print(ent.text, ent.label_)\n",
    "        drug[\"parameter\"] = ent.text\n",
    "        # print(result)\n",
    "        # print(\"-------------------\")\n",
    "\n",
    "    if ent.label_ == \"CARDINAL\":\n",
    "        # print(ent.text, ent.label_)\n",
    "        # check if result has \"parameter\" key and add the value to the list\n",
    "        if \"parameter\" in drug:\n",
    "            value.append(ent.text)\n",
    "        drug[\"value\"] = value\n",
    "        # save in a list\n",
    "        # result[\"value\"] = ent.text\n",
    "        # print(result)\n",
    "        # print(\"-------------------\")\n",
    "\n",
    "    if ent.label_ == \"ORG\":\n",
    "        # print(ent.text, ent.label_)\n",
    "        # check if result has \"parameter\" key and \"value\" key and add the unit\n",
    "        if \"parameter\" in drug and \"value\" in drug:\n",
    "            unit.append(ent.text)\n",
    "        drug[\"unit\"] = unit\n",
    "        # print(result)\n",
    "        # print(\"-------------------\")\n",
    "    \n",
    "    print(drug)\n",
    "    \n",
    "    #     # get next token \n",
    "    #     # print(doc[ent.end].nbor())\n",
    "    #     # print(doc[ent.end])\n",
    "    #     next_token = doc[ent.end].nbor()\n",
    "    #     if next_token.like_num:\n",
    "    #         print(ent.text, next_token)\n",
    "# print(result)"
   ]
  },
  {
   "cell_type": "code",
   "execution_count": null,
   "metadata": {},
   "outputs": [],
   "source": [
    "\n",
    "        "
   ]
  }
 ],
 "metadata": {
  "kernelspec": {
   "display_name": "learning",
   "language": "python",
   "name": "python3"
  },
  "language_info": {
   "codemirror_mode": {
    "name": "ipython",
    "version": 3
   },
   "file_extension": ".py",
   "mimetype": "text/x-python",
   "name": "python",
   "nbconvert_exporter": "python",
   "pygments_lexer": "ipython3",
   "version": "3.9.15"
  }
 },
 "nbformat": 4,
 "nbformat_minor": 2
}
